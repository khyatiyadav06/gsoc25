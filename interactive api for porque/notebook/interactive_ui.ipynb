{
 "cells": [
  {
   "cell_type": "code",
   "execution_count": null,
   "id": "b6d97a26",
   "metadata": {},
   "outputs": [
    {
     "data": {
      "application/vnd.jupyter.widget-view+json": {
       "model_id": "93dd6f8980cf4c12985c587a1cd93852",
       "version_major": 2,
       "version_minor": 0
      },
      "text/plain": [
       "FileUpload(value=(), accept='.csv', description='Upload')"
      ]
     },
     "metadata": {},
     "output_type": "display_data"
    },
    {
     "data": {
      "application/vnd.jupyter.widget-view+json": {
       "model_id": "1666e6857b1d440ebea4114ccd467cf3",
       "version_major": 2,
       "version_minor": 0
      },
      "text/plain": [
       "Button(description='Optimize', style=ButtonStyle())"
      ]
     },
     "metadata": {},
     "output_type": "display_data"
    },
    {
     "data": {
      "application/vnd.jupyter.widget-view+json": {
       "model_id": "a2c26f9174874326abf9c1229adfe509",
       "version_major": 2,
       "version_minor": 0
      },
      "text/plain": [
       "Output()"
      ]
     },
     "metadata": {},
     "output_type": "display_data"
    }
   ],
   "source": [
    "# notebooks/interactive_ui.ipynb\n",
    "\n",
    "import ipywidgets as widgets\n",
    "import pandas as pd\n",
    "import requests\n",
    "from IPython.display import display\n",
    "\n",
    "upload = widgets.FileUpload(accept='.csv', multiple=False)\n",
    "button = widgets.Button(description=\"Optimize\")\n",
    "output = widgets.Output()\n",
    "\n",
    "def on_button_clicked(b):\n",
    "    with output:\n",
    "        output.clear_output()\n",
    "        if not upload.value:\n",
    "            print(\"Please upload a file.\")\n",
    "            return\n",
    "        \n",
    "        # Access the uploaded file\n",
    "        file_data = next(iter(upload.value))\n",
    "        file_name = file_data['name']\n",
    "        file_content = file_data['content']\n",
    "\n",
    "        # Send the file to the API\n",
    "        response = requests.post(\n",
    "            \"http://localhost:8000/optimize/\",\n",
    "            files={\"file\": (file_name, file_content)}\n",
    "        )\n",
    "\n",
    "        # Print the response\n",
    "        if response.status_code == 200:\n",
    "            print(\"✅ Optimized Weights:\")\n",
    "            print(response.json())\n",
    "        else:\n",
    "            print(\"❌ Error:\", response.status_code, response.text)\n",
    "\n",
    "\n",
    "button.on_click(on_button_clicked)\n",
    "display(upload, button, output)\n"
   ]
  }
 ],
 "metadata": {
  "kernelspec": {
   "display_name": "Python 3",
   "language": "python",
   "name": "python3"
  },
  "language_info": {
   "codemirror_mode": {
    "name": "ipython",
    "version": 3
   },
   "file_extension": ".py",
   "mimetype": "text/x-python",
   "name": "python",
   "nbconvert_exporter": "python",
   "pygments_lexer": "ipython3",
   "version": "3.12.1"
  }
 },
 "nbformat": 4,
 "nbformat_minor": 5
}
